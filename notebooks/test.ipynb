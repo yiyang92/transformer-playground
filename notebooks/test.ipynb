{
 "cells": [
  {
   "cell_type": "code",
   "execution_count": 1,
   "metadata": {},
   "outputs": [],
   "source": [
    "%load_ext autoreload\n",
    "%autoreload 2"
   ]
  },
  {
   "cell_type": "code",
   "execution_count": 2,
   "metadata": {},
   "outputs": [],
   "source": [
    "import torch\n",
    "\n",
    "from tplayground.layers import MultiHeadSelfAttention, FeedForward, TransformerLayer\n",
    "from tplayground.params import AttentionParams, TransformerParams, FFLayerParams"
   ]
  },
  {
   "cell_type": "code",
   "execution_count": 9,
   "metadata": {},
   "outputs": [],
   "source": [
    "att_params = AttentionParams()\n",
    "att_params.num_heads = 12\n",
    "att_params.hidden_size = 768\n",
    "\n",
    "ff_params = FFLayerParams()\n",
    "ff_params.hidden_size = 768 * 4\n",
    "\n",
    "tr_params = TransformerParams()\n",
    "tr_params.num_layers = 2\n",
    "tr_params.model_dim = 768\n",
    "tr_params.attention_params = att_params\n",
    "tr_params.ff_layer_params = ff_params"
   ]
  },
  {
   "cell_type": "code",
   "execution_count": 10,
   "metadata": {},
   "outputs": [
    {
     "data": {
      "text/plain": [
       "torch.Size([1, 5, 768])"
      ]
     },
     "execution_count": 10,
     "metadata": {},
     "output_type": "execute_result"
    }
   ],
   "source": [
    "emb = torch.rand((1, 5, att_params.hidden_size))\n",
    "emb.size()"
   ]
  },
  {
   "cell_type": "code",
   "execution_count": 11,
   "metadata": {},
   "outputs": [
    {
     "data": {
      "text/plain": [
       "torch.Size([1, 5, 768])"
      ]
     },
     "execution_count": 11,
     "metadata": {},
     "output_type": "execute_result"
    }
   ],
   "source": [
    "mha = MultiHeadSelfAttention(tr_params.attention_params, model_dim=tr_params.model_dim)\n",
    "att_out = mha(emb)\n",
    "att_out.shape"
   ]
  },
  {
   "cell_type": "code",
   "execution_count": 12,
   "metadata": {},
   "outputs": [
    {
     "data": {
      "text/plain": [
       "torch.Size([1, 5, 768])"
      ]
     },
     "execution_count": 12,
     "metadata": {},
     "output_type": "execute_result"
    }
   ],
   "source": [
    "ff = FeedForward(tr_params.ff_layer_params, model_dim=tr_params.model_dim)\n",
    "ff_out = ff(att_out)\n",
    "ff_out.shape"
   ]
  },
  {
   "cell_type": "code",
   "execution_count": 13,
   "metadata": {},
   "outputs": [
    {
     "data": {
      "text/plain": [
       "torch.Size([1, 5, 768])"
      ]
     },
     "execution_count": 13,
     "metadata": {},
     "output_type": "execute_result"
    }
   ],
   "source": [
    "tr_layer = TransformerLayer(tr_params)\n",
    "tr_out = tr_layer(emb)\n",
    "tr_out.shape"
   ]
  }
 ],
 "metadata": {
  "kernelspec": {
   "display_name": "transformer-playground",
   "language": "python",
   "name": "python3"
  },
  "language_info": {
   "codemirror_mode": {
    "name": "ipython",
    "version": 3
   },
   "file_extension": ".py",
   "mimetype": "text/x-python",
   "name": "python",
   "nbconvert_exporter": "python",
   "pygments_lexer": "ipython3",
   "version": "3.11.3"
  },
  "orig_nbformat": 4
 },
 "nbformat": 4,
 "nbformat_minor": 2
}
